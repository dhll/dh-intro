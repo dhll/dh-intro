{
 "cells": [
  {
   "cell_type": "markdown",
   "metadata": {},
   "source": [
    "## Einlesen der Datei (Tabelle)"
   ]
  },
  {
   "cell_type": "code",
   "execution_count": 129,
   "metadata": {
    "collapsed": false
   },
   "outputs": [],
   "source": [
    "top250.t <- read.table(\"top250.txt\", sep=\"\\t\")"
   ]
  },
  {
   "cell_type": "code",
   "execution_count": 130,
   "metadata": {
    "collapsed": false
   },
   "outputs": [
    {
     "data": {
      "text/html": [
       "<table>\n",
       "<thead><tr><th scope=col>V1</th><th scope=col>V2</th><th scope=col>V3</th><th scope=col>V4</th><th scope=col>V5</th><th scope=col>V6</th><th scope=col>V7</th></tr></thead>\n",
       "<tbody>\n",
       "\t<tr><td>1                     </td><td>Die Verurteilten      </td><td>1994                  </td><td>9,2                   </td><td>12345678910           </td><td>NOT YET RELEASED      </td><td>Seen                  </td></tr>\n",
       "\t<tr><td>2                     </td><td>Der Pate              </td><td>1972                  </td><td>9,2                   </td><td>12345678910           </td><td>NOT YET RELEASED      </td><td>Seen                  </td></tr>\n",
       "\t<tr><td>3                     </td><td>Der Pate 2            </td><td>1974                  </td><td>9,0                   </td><td>12345678910           </td><td>NOT YET RELEASED      </td><td>Seen                  </td></tr>\n",
       "\t<tr><td>4                     </td><td>The Dark Knight       </td><td>2008                  </td><td>9,0                   </td><td>12345678910           </td><td>NOT YET RELEASED      </td><td>Seen                  </td></tr>\n",
       "\t<tr><td>5                     </td><td>Die zwölf Geschworenen</td><td>1957                  </td><td>8,9                   </td><td>12345678910           </td><td>NOT YET RELEASED      </td><td>Seen                  </td></tr>\n",
       "\t<tr><td>6                     </td><td>Schindlers Liste      </td><td>1993                  </td><td>8,9                   </td><td>12345678910           </td><td>NOT YET RELEASED      </td><td>Seen                  </td></tr>\n",
       "</tbody>\n",
       "</table>\n"
      ],
      "text/latex": [
       "\\begin{tabular}{r|lllllll}\n",
       " V1 & V2 & V3 & V4 & V5 & V6 & V7\\\\\n",
       "\\hline\n",
       "\t 1                      & Die Verurteilten       & 1994                   & 9,2                    & 12345678910            & NOT YET RELEASED       & Seen                  \\\\\n",
       "\t 2                      & Der Pate               & 1972                   & 9,2                    & 12345678910            & NOT YET RELEASED       & Seen                  \\\\\n",
       "\t 3                      & Der Pate 2             & 1974                   & 9,0                    & 12345678910            & NOT YET RELEASED       & Seen                  \\\\\n",
       "\t 4                      & The Dark Knight        & 2008                   & 9,0                    & 12345678910            & NOT YET RELEASED       & Seen                  \\\\\n",
       "\t 5                      & Die zwölf Geschworenen & 1957                   & 8,9                    & 12345678910            & NOT YET RELEASED       & Seen                  \\\\\n",
       "\t 6                      & Schindlers Liste       & 1993                   & 8,9                    & 12345678910            & NOT YET RELEASED       & Seen                  \\\\\n",
       "\\end{tabular}\n"
      ],
      "text/markdown": [
       "\n",
       "V1 | V2 | V3 | V4 | V5 | V6 | V7 | \n",
       "|---|---|---|---|---|---|\n",
       "| 1                      | Die Verurteilten       | 1994                   | 9,2                    | 12345678910            | NOT YET RELEASED       | Seen                   | \n",
       "| 2                      | Der Pate               | 1972                   | 9,2                    | 12345678910            | NOT YET RELEASED       | Seen                   | \n",
       "| 3                      | Der Pate 2             | 1974                   | 9,0                    | 12345678910            | NOT YET RELEASED       | Seen                   | \n",
       "| 4                      | The Dark Knight        | 2008                   | 9,0                    | 12345678910            | NOT YET RELEASED       | Seen                   | \n",
       "| 5                      | Die zwölf Geschworenen | 1957                   | 8,9                    | 12345678910            | NOT YET RELEASED       | Seen                   | \n",
       "| 6                      | Schindlers Liste       | 1993                   | 8,9                    | 12345678910            | NOT YET RELEASED       | Seen                   | \n",
       "\n",
       "\n"
      ],
      "text/plain": [
       "  V1 V2                     V3   V4  V5          V6               V7  \n",
       "1 1  Die Verurteilten       1994 9,2 12345678910 NOT YET RELEASED Seen\n",
       "2 2  Der Pate               1972 9,2 12345678910 NOT YET RELEASED Seen\n",
       "3 3  Der Pate 2             1974 9,0 12345678910 NOT YET RELEASED Seen\n",
       "4 4  The Dark Knight        2008 9,0 12345678910 NOT YET RELEASED Seen\n",
       "5 5  Die zwölf Geschworenen 1957 8,9 12345678910 NOT YET RELEASED Seen\n",
       "6 6  Schindlers Liste       1993 8,9 12345678910 NOT YET RELEASED Seen"
      ]
     },
     "metadata": {},
     "output_type": "display_data"
    }
   ],
   "source": [
    "head(top250.t)"
   ]
  },
  {
   "cell_type": "code",
   "execution_count": 131,
   "metadata": {
    "collapsed": false
   },
   "outputs": [],
   "source": [
    "?head # mit ? vor einer Funktion, wird die Hilfefunktion aufgerufen. (Manchmal ist der Hilfetext hilfreich, oftmals ist Google besser)"
   ]
  },
  {
   "cell_type": "markdown",
   "metadata": {},
   "source": [
    ">Aufgabe 1: lassen Sie sich die ersten 10 Zeilen der Tabelle anzeigen.\n",
    "\n",
    ">Aufgabe 2: lassen Sie sich die letzten 10 Zeilen der Tabelle anzeigen."
   ]
  },
  {
   "cell_type": "code",
   "execution_count": 132,
   "metadata": {
    "collapsed": false
   },
   "outputs": [
    {
     "data": {
      "text/html": [
       "<table>\n",
       "<thead><tr><th></th><th scope=col>V1</th><th scope=col>V2</th><th scope=col>V3</th><th scope=col>V4</th><th scope=col>V5</th><th scope=col>V6</th><th scope=col>V7</th></tr></thead>\n",
       "<tbody>\n",
       "\t<tr><th scope=row>192</th><td>241                              </td><td>Tangerines                       </td><td>2013                             </td><td>8,0                              </td><td>12345678910                      </td><td>NOT YET RELEASED                 </td><td>Seen                             </td></tr>\n",
       "\t<tr><th scope=row>193</th><td>242                              </td><td>Paris, Texas                     </td><td>1984                             </td><td>8,0                              </td><td>12345678910                      </td><td>NOT YET RELEASED                 </td><td>Seen                             </td></tr>\n",
       "\t<tr><th scope=row>194</th><td>243                              </td><td>Das Bourne Ultimatum             </td><td>2007                             </td><td>8,0                              </td><td>12345678910                      </td><td>NOT YET RELEASED                 </td><td>Seen                             </td></tr>\n",
       "\t<tr><th scope=row>195</th><td>244                              </td><td>Guardians of the Galaxy          </td><td>2014                             </td><td>8,0                              </td><td>12345678910                      </td><td>NOT YET RELEASED                 </td><td>Seen                             </td></tr>\n",
       "\t<tr><th scope=row>196</th><td>245                              </td><td>Die Taschendiebin                </td><td>2016                             </td><td>8,0                              </td><td>12345678910                      </td><td>NOT YET RELEASED                 </td><td>Seen                             </td></tr>\n",
       "\t<tr><th scope=row>197</th><td>246                              </td><td>PK - Andere Sterne, Andere Sitten</td><td>2014                             </td><td>8,0                              </td><td>12345678910                      </td><td>NOT YET RELEASED                 </td><td>Seen                             </td></tr>\n",
       "\t<tr><th scope=row>198</th><td>247                              </td><td>Fluch der Karibik                </td><td>2003                             </td><td>8,0                              </td><td>12345678910                      </td><td>NOT YET RELEASED                 </td><td>Seen                             </td></tr>\n",
       "\t<tr><th scope=row>199</th><td>248                              </td><td>Das Schloss im Himmel            </td><td>1986                             </td><td>8,0                              </td><td>12345678910                      </td><td>NOT YET RELEASED                 </td><td>Seen                             </td></tr>\n",
       "\t<tr><th scope=row>200</th><td>249                              </td><td>Die besten Jahre unseres Lebens  </td><td>1946                             </td><td>8,0                              </td><td>12345678910                      </td><td>NOT YET RELEASED                 </td><td>Seen                             </td></tr>\n",
       "\t<tr><th scope=row>201</th><td>250                              </td><td>Die Schöne und das Biest         </td><td>1991                             </td><td>8,0                              </td><td>12345678910                      </td><td>NOT YET RELEASED                 </td><td>Seen                             </td></tr>\n",
       "</tbody>\n",
       "</table>\n"
      ],
      "text/latex": [
       "\\begin{tabular}{r|lllllll}\n",
       "  & V1 & V2 & V3 & V4 & V5 & V6 & V7\\\\\n",
       "\\hline\n",
       "\t192 & 241                               & Tangerines                        & 2013                              & 8,0                               & 12345678910                       & NOT YET RELEASED                  & Seen                             \\\\\n",
       "\t193 & 242                               & Paris, Texas                      & 1984                              & 8,0                               & 12345678910                       & NOT YET RELEASED                  & Seen                             \\\\\n",
       "\t194 & 243                               & Das Bourne Ultimatum              & 2007                              & 8,0                               & 12345678910                       & NOT YET RELEASED                  & Seen                             \\\\\n",
       "\t195 & 244                               & Guardians of the Galaxy           & 2014                              & 8,0                               & 12345678910                       & NOT YET RELEASED                  & Seen                             \\\\\n",
       "\t196 & 245                               & Die Taschendiebin                 & 2016                              & 8,0                               & 12345678910                       & NOT YET RELEASED                  & Seen                             \\\\\n",
       "\t197 & 246                               & PK - Andere Sterne, Andere Sitten & 2014                              & 8,0                               & 12345678910                       & NOT YET RELEASED                  & Seen                             \\\\\n",
       "\t198 & 247                               & Fluch der Karibik                 & 2003                              & 8,0                               & 12345678910                       & NOT YET RELEASED                  & Seen                             \\\\\n",
       "\t199 & 248                               & Das Schloss im Himmel             & 1986                              & 8,0                               & 12345678910                       & NOT YET RELEASED                  & Seen                             \\\\\n",
       "\t200 & 249                               & Die besten Jahre unseres Lebens   & 1946                              & 8,0                               & 12345678910                       & NOT YET RELEASED                  & Seen                             \\\\\n",
       "\t201 & 250                               & Die Schöne und das Biest          & 1991                              & 8,0                               & 12345678910                       & NOT YET RELEASED                  & Seen                             \\\\\n",
       "\\end{tabular}\n"
      ],
      "text/markdown": [
       "\n",
       "| <!--/--> | V1 | V2 | V3 | V4 | V5 | V6 | V7 | \n",
       "|---|---|---|---|---|---|---|---|---|---|\n",
       "| 192 | 241                               | Tangerines                        | 2013                              | 8,0                               | 12345678910                       | NOT YET RELEASED                  | Seen                              | \n",
       "| 193 | 242                               | Paris, Texas                      | 1984                              | 8,0                               | 12345678910                       | NOT YET RELEASED                  | Seen                              | \n",
       "| 194 | 243                               | Das Bourne Ultimatum              | 2007                              | 8,0                               | 12345678910                       | NOT YET RELEASED                  | Seen                              | \n",
       "| 195 | 244                               | Guardians of the Galaxy           | 2014                              | 8,0                               | 12345678910                       | NOT YET RELEASED                  | Seen                              | \n",
       "| 196 | 245                               | Die Taschendiebin                 | 2016                              | 8,0                               | 12345678910                       | NOT YET RELEASED                  | Seen                              | \n",
       "| 197 | 246                               | PK - Andere Sterne, Andere Sitten | 2014                              | 8,0                               | 12345678910                       | NOT YET RELEASED                  | Seen                              | \n",
       "| 198 | 247                               | Fluch der Karibik                 | 2003                              | 8,0                               | 12345678910                       | NOT YET RELEASED                  | Seen                              | \n",
       "| 199 | 248                               | Das Schloss im Himmel             | 1986                              | 8,0                               | 12345678910                       | NOT YET RELEASED                  | Seen                              | \n",
       "| 200 | 249                               | Die besten Jahre unseres Lebens   | 1946                              | 8,0                               | 12345678910                       | NOT YET RELEASED                  | Seen                              | \n",
       "| 201 | 250                               | Die Schöne und das Biest          | 1991                              | 8,0                               | 12345678910                       | NOT YET RELEASED                  | Seen                              | \n",
       "\n",
       "\n"
      ],
      "text/plain": [
       "    V1  V2                                V3   V4  V5          V6              \n",
       "192 241 Tangerines                        2013 8,0 12345678910 NOT YET RELEASED\n",
       "193 242 Paris, Texas                      1984 8,0 12345678910 NOT YET RELEASED\n",
       "194 243 Das Bourne Ultimatum              2007 8,0 12345678910 NOT YET RELEASED\n",
       "195 244 Guardians of the Galaxy           2014 8,0 12345678910 NOT YET RELEASED\n",
       "196 245 Die Taschendiebin                 2016 8,0 12345678910 NOT YET RELEASED\n",
       "197 246 PK - Andere Sterne, Andere Sitten 2014 8,0 12345678910 NOT YET RELEASED\n",
       "198 247 Fluch der Karibik                 2003 8,0 12345678910 NOT YET RELEASED\n",
       "199 248 Das Schloss im Himmel             1986 8,0 12345678910 NOT YET RELEASED\n",
       "200 249 Die besten Jahre unseres Lebens   1946 8,0 12345678910 NOT YET RELEASED\n",
       "201 250 Die Schöne und das Biest          1991 8,0 12345678910 NOT YET RELEASED\n",
       "    V7  \n",
       "192 Seen\n",
       "193 Seen\n",
       "194 Seen\n",
       "195 Seen\n",
       "196 Seen\n",
       "197 Seen\n",
       "198 Seen\n",
       "199 Seen\n",
       "200 Seen\n",
       "201 Seen"
      ]
     },
     "metadata": {},
     "output_type": "display_data"
    }
   ],
   "source": [
    "tail(top250.t, n=10)"
   ]
  },
  {
   "cell_type": "code",
   "execution_count": 133,
   "metadata": {
    "collapsed": false
   },
   "outputs": [
    {
     "data": {
      "text/html": [
       "<table>\n",
       "<thead><tr><th scope=col>V1</th><th scope=col>V2</th><th scope=col>V3</th><th scope=col>V4</th><th scope=col>V5</th><th scope=col>V6</th><th scope=col>V7</th></tr></thead>\n",
       "<tbody>\n",
       "\t<tr><td> 1                                          </td><td>Die Verurteilten                            </td><td>1994                                        </td><td>9,2                                         </td><td>12345678910                                 </td><td>NOT YET RELEASED                            </td><td>Seen                                        </td></tr>\n",
       "\t<tr><td> 2                                          </td><td>Der Pate                                    </td><td>1972                                        </td><td>9,2                                         </td><td>12345678910                                 </td><td>NOT YET RELEASED                            </td><td>Seen                                        </td></tr>\n",
       "\t<tr><td> 3                                          </td><td>Der Pate 2                                  </td><td>1974                                        </td><td>9,0                                         </td><td>12345678910                                 </td><td>NOT YET RELEASED                            </td><td>Seen                                        </td></tr>\n",
       "\t<tr><td> 4                                          </td><td>The Dark Knight                             </td><td>2008                                        </td><td>9,0                                         </td><td>12345678910                                 </td><td>NOT YET RELEASED                            </td><td>Seen                                        </td></tr>\n",
       "\t<tr><td> 5                                          </td><td>Die zwölf Geschworenen                      </td><td>1957                                        </td><td>8,9                                         </td><td>12345678910                                 </td><td>NOT YET RELEASED                            </td><td>Seen                                        </td></tr>\n",
       "\t<tr><td> 6                                          </td><td>Schindlers Liste                            </td><td>1993                                        </td><td>8,9                                         </td><td>12345678910                                 </td><td>NOT YET RELEASED                            </td><td>Seen                                        </td></tr>\n",
       "\t<tr><td> 7                                          </td><td>Der Herr der Ringe - Die Rückkehr des Königs</td><td>2003                                        </td><td>8,9                                         </td><td>12345678910                                 </td><td>NOT YET RELEASED                            </td><td>Seen                                        </td></tr>\n",
       "\t<tr><td> 8                                          </td><td>Pulp Fiction                                </td><td>1994                                        </td><td>8,9                                         </td><td>12345678910                                 </td><td>NOT YET RELEASED                            </td><td>Seen                                        </td></tr>\n",
       "\t<tr><td> 9                                          </td><td>Zwei glorreiche Halunken                    </td><td>1966                                        </td><td>8,8                                         </td><td>12345678910                                 </td><td>NOT YET RELEASED                            </td><td>Seen                                        </td></tr>\n",
       "\t<tr><td>10                                          </td><td>Fight Club                                  </td><td>1999                                        </td><td>8,8                                         </td><td>12345678910                                 </td><td>NOT YET RELEASED                            </td><td>Seen                                        </td></tr>\n",
       "</tbody>\n",
       "</table>\n"
      ],
      "text/latex": [
       "\\begin{tabular}{r|lllllll}\n",
       " V1 & V2 & V3 & V4 & V5 & V6 & V7\\\\\n",
       "\\hline\n",
       "\t  1                                           & Die Verurteilten                             & 1994                                         & 9,2                                          & 12345678910                                  & NOT YET RELEASED                             & Seen                                        \\\\\n",
       "\t  2                                           & Der Pate                                     & 1972                                         & 9,2                                          & 12345678910                                  & NOT YET RELEASED                             & Seen                                        \\\\\n",
       "\t  3                                           & Der Pate 2                                   & 1974                                         & 9,0                                          & 12345678910                                  & NOT YET RELEASED                             & Seen                                        \\\\\n",
       "\t  4                                           & The Dark Knight                              & 2008                                         & 9,0                                          & 12345678910                                  & NOT YET RELEASED                             & Seen                                        \\\\\n",
       "\t  5                                           & Die zwölf Geschworenen                       & 1957                                         & 8,9                                          & 12345678910                                  & NOT YET RELEASED                             & Seen                                        \\\\\n",
       "\t  6                                           & Schindlers Liste                             & 1993                                         & 8,9                                          & 12345678910                                  & NOT YET RELEASED                             & Seen                                        \\\\\n",
       "\t  7                                           & Der Herr der Ringe - Die Rückkehr des Königs & 2003                                         & 8,9                                          & 12345678910                                  & NOT YET RELEASED                             & Seen                                        \\\\\n",
       "\t  8                                           & Pulp Fiction                                 & 1994                                         & 8,9                                          & 12345678910                                  & NOT YET RELEASED                             & Seen                                        \\\\\n",
       "\t  9                                           & Zwei glorreiche Halunken                     & 1966                                         & 8,8                                          & 12345678910                                  & NOT YET RELEASED                             & Seen                                        \\\\\n",
       "\t 10                                           & Fight Club                                   & 1999                                         & 8,8                                          & 12345678910                                  & NOT YET RELEASED                             & Seen                                        \\\\\n",
       "\\end{tabular}\n"
      ],
      "text/markdown": [
       "\n",
       "V1 | V2 | V3 | V4 | V5 | V6 | V7 | \n",
       "|---|---|---|---|---|---|---|---|---|---|\n",
       "|  1                                           | Die Verurteilten                             | 1994                                         | 9,2                                          | 12345678910                                  | NOT YET RELEASED                             | Seen                                         | \n",
       "|  2                                           | Der Pate                                     | 1972                                         | 9,2                                          | 12345678910                                  | NOT YET RELEASED                             | Seen                                         | \n",
       "|  3                                           | Der Pate 2                                   | 1974                                         | 9,0                                          | 12345678910                                  | NOT YET RELEASED                             | Seen                                         | \n",
       "|  4                                           | The Dark Knight                              | 2008                                         | 9,0                                          | 12345678910                                  | NOT YET RELEASED                             | Seen                                         | \n",
       "|  5                                           | Die zwölf Geschworenen                       | 1957                                         | 8,9                                          | 12345678910                                  | NOT YET RELEASED                             | Seen                                         | \n",
       "|  6                                           | Schindlers Liste                             | 1993                                         | 8,9                                          | 12345678910                                  | NOT YET RELEASED                             | Seen                                         | \n",
       "|  7                                           | Der Herr der Ringe - Die Rückkehr des Königs | 2003                                         | 8,9                                          | 12345678910                                  | NOT YET RELEASED                             | Seen                                         | \n",
       "|  8                                           | Pulp Fiction                                 | 1994                                         | 8,9                                          | 12345678910                                  | NOT YET RELEASED                             | Seen                                         | \n",
       "|  9                                           | Zwei glorreiche Halunken                     | 1966                                         | 8,8                                          | 12345678910                                  | NOT YET RELEASED                             | Seen                                         | \n",
       "| 10                                           | Fight Club                                   | 1999                                         | 8,8                                          | 12345678910                                  | NOT YET RELEASED                             | Seen                                         | \n",
       "\n",
       "\n"
      ],
      "text/plain": [
       "   V1 V2                                           V3   V4  V5         \n",
       "1   1 Die Verurteilten                             1994 9,2 12345678910\n",
       "2   2 Der Pate                                     1972 9,2 12345678910\n",
       "3   3 Der Pate 2                                   1974 9,0 12345678910\n",
       "4   4 The Dark Knight                              2008 9,0 12345678910\n",
       "5   5 Die zwölf Geschworenen                       1957 8,9 12345678910\n",
       "6   6 Schindlers Liste                             1993 8,9 12345678910\n",
       "7   7 Der Herr der Ringe - Die Rückkehr des Königs 2003 8,9 12345678910\n",
       "8   8 Pulp Fiction                                 1994 8,9 12345678910\n",
       "9   9 Zwei glorreiche Halunken                     1966 8,8 12345678910\n",
       "10 10 Fight Club                                   1999 8,8 12345678910\n",
       "   V6               V7  \n",
       "1  NOT YET RELEASED Seen\n",
       "2  NOT YET RELEASED Seen\n",
       "3  NOT YET RELEASED Seen\n",
       "4  NOT YET RELEASED Seen\n",
       "5  NOT YET RELEASED Seen\n",
       "6  NOT YET RELEASED Seen\n",
       "7  NOT YET RELEASED Seen\n",
       "8  NOT YET RELEASED Seen\n",
       "9  NOT YET RELEASED Seen\n",
       "10 NOT YET RELEASED Seen"
      ]
     },
     "metadata": {},
     "output_type": "display_data"
    }
   ],
   "source": [
    "head(top250.t, n=10)"
   ]
  },
  {
   "cell_type": "code",
   "execution_count": 134,
   "metadata": {
    "collapsed": false
   },
   "outputs": [
    {
     "data": {
      "text/html": [
       "201"
      ],
      "text/latex": [
       "201"
      ],
      "text/markdown": [
       "201"
      ],
      "text/plain": [
       "[1] 201"
      ]
     },
     "metadata": {},
     "output_type": "display_data"
    }
   ],
   "source": [
    "nrow(top250.t)"
   ]
  },
  {
   "cell_type": "markdown",
   "metadata": {},
   "source": [
    "## Tabelle bearbeiten"
   ]
  },
  {
   "cell_type": "markdown",
   "metadata": {},
   "source": [
    "### überflüssige Spalten entfernen"
   ]
  },
  {
   "cell_type": "code",
   "execution_count": 135,
   "metadata": {
    "collapsed": false
   },
   "outputs": [
    {
     "data": {
      "text/html": [
       "<table>\n",
       "<thead><tr><th></th><th scope=col>V1</th><th scope=col>V2</th><th scope=col>V3</th><th scope=col>V4</th><th scope=col>V5</th><th scope=col>V6</th><th scope=col>V7</th></tr></thead>\n",
       "<tbody>\n",
       "\t<tr><th scope=row>4</th><td>4               </td><td>The Dark Knight </td><td>2008            </td><td>9,0             </td><td>12345678910     </td><td>NOT YET RELEASED</td><td>Seen            </td></tr>\n",
       "</tbody>\n",
       "</table>\n"
      ],
      "text/latex": [
       "\\begin{tabular}{r|lllllll}\n",
       "  & V1 & V2 & V3 & V4 & V5 & V6 & V7\\\\\n",
       "\\hline\n",
       "\t4 & 4                & The Dark Knight  & 2008             & 9,0              & 12345678910      & NOT YET RELEASED & Seen            \\\\\n",
       "\\end{tabular}\n"
      ],
      "text/markdown": [
       "\n",
       "| <!--/--> | V1 | V2 | V3 | V4 | V5 | V6 | V7 | \n",
       "|---|\n",
       "| 4 | 4                | The Dark Knight  | 2008             | 9,0              | 12345678910      | NOT YET RELEASED | Seen             | \n",
       "\n",
       "\n"
      ],
      "text/plain": [
       "  V1 V2              V3   V4  V5          V6               V7  \n",
       "4 4  The Dark Knight 2008 9,0 12345678910 NOT YET RELEASED Seen"
      ]
     },
     "metadata": {},
     "output_type": "display_data"
    }
   ],
   "source": [
    "# einzelne Zeilen anzeigen lassen\n",
    "top250.t[4,]"
   ]
  },
  {
   "cell_type": "code",
   "execution_count": 136,
   "metadata": {
    "collapsed": false
   },
   "outputs": [
    {
     "data": {
      "text/html": [
       "City of God"
      ],
      "text/latex": [
       "City of God"
      ],
      "text/markdown": [
       "City of God"
      ],
      "text/plain": [
       "[1] City of God\n",
       "201 Levels: 12 Years a Slave 2001: Odyssee im Weltraum ... Zwei glorreiche Halunken"
      ]
     },
     "metadata": {},
     "output_type": "display_data"
    }
   ],
   "source": [
    "# einzelne Zelle anzeigen lassen\n",
    "top250.t[20,2]"
   ]
  },
  {
   "cell_type": "code",
   "execution_count": 137,
   "metadata": {
    "collapsed": false
   },
   "outputs": [
    {
     "data": {
      "text/html": [
       "<ol class=list-inline>\n",
       "\t<li>1994</li>\n",
       "\t<li>1972</li>\n",
       "\t<li>1974</li>\n",
       "\t<li>2008</li>\n",
       "\t<li>1957</li>\n",
       "\t<li>1993</li>\n",
       "\t<li>2003</li>\n",
       "\t<li>1994</li>\n",
       "\t<li>1966</li>\n",
       "\t<li>1999</li>\n",
       "\t<li>2001</li>\n",
       "\t<li>1994</li>\n",
       "\t<li>1980</li>\n",
       "\t<li>2010</li>\n",
       "\t<li>2002</li>\n",
       "\t<li>1975</li>\n",
       "\t<li>1990</li>\n",
       "\t<li>1999</li>\n",
       "\t<li>1954</li>\n",
       "\t<li>2002</li>\n",
       "\t<li>1995</li>\n",
       "\t<li>1977</li>\n",
       "\t<li>1991</li>\n",
       "\t<li>1946</li>\n",
       "\t<li>1997</li>\n",
       "\t<li>1995</li>\n",
       "\t<li>2001</li>\n",
       "\t<li>1998</li>\n",
       "\t<li>1994</li>\n",
       "\t<li>1999</li>\n",
       "\t<li>2014</li>\n",
       "\t<li>1960</li>\n",
       "\t<li>1998</li>\n",
       "\t<li>1931</li>\n",
       "\t<li>1968</li>\n",
       "\t<li>1942</li>\n",
       "\t<li>1936</li>\n",
       "\t<li>2011</li>\n",
       "\t<li>2002</li>\n",
       "\t<li>2006</li>\n",
       "\t<li>1991</li>\n",
       "\t<li>1985</li>\n",
       "\t<li>2014</li>\n",
       "\t<li>1954</li>\n",
       "\t<li>1981</li>\n",
       "\t<li>2000</li>\n",
       "\t<li>1994</li>\n",
       "\t<li>2006</li>\n",
       "\t<li>2018</li>\n",
       "\t<li>1979</li>\n",
       "\t<li>2000</li>\n",
       "\t<li>1979</li>\n",
       "\t<li>1940</li>\n",
       "\t<li>1988</li>\n",
       "\t<li>1988</li>\n",
       "\t<li>1950</li>\n",
       "\t<li>2006</li>\n",
       "\t<li>1964</li>\n",
       "\t<li>1957</li>\n",
       "\t<li>1980</li>\n",
       "\t<li>2012</li>\n",
       "\t<li>2008</li>\n",
       "\t<li>1997</li>\n",
       "\t<li>1957</li>\n",
       "\t<li>1999</li>\n",
       "\t<li>2012</li>\n",
       "\t<li>2017</li>\n",
       "\t<li>2003</li>\n",
       "\t<li>1986</li>\n",
       "\t<li>1984</li>\n",
       "\t<li>1981</li>\n",
       "\t<li>1941</li>\n",
       "\t<li>1995</li>\n",
       "\t<li>1958</li>\n",
       "\t<li>1959</li>\n",
       "\t<li>1992</li>\n",
       "\t<li>1983</li>\n",
       "\t<li>2016</li>\n",
       "\t<li>1931</li>\n",
       "\t<li>2016</li>\n",
       "\t<li>2000</li>\n",
       "\t<li>1984</li>\n",
       "\t<li>2007</li>\n",
       "\t<li>1962</li>\n",
       "\t<li>2004</li>\n",
       "\t<li>1971</li>\n",
       "\t<li>2001</li>\n",
       "\t<li>1944</li>\n",
       "\t<li>2009</li>\n",
       "\t<li>1968</li>\n",
       "\t<li>1995</li>\n",
       "\t<li>1976</li>\n",
       "\t<li>1952</li>\n",
       "\t<li>1987</li>\n",
       "\t<li>2009</li>\n",
       "\t<li>1962</li>\n",
       "\t<li>1948</li>\n",
       "\t<li>1921</li>\n",
       "\t<li>1973</li>\n",
       "\t<li>2010</li>\n",
       "\t<li>1997</li>\n",
       "\t<li>2012</li>\n",
       "\t<li>2000</li>\n",
       "\t<li>1975</li>\n",
       "\t<li>1983</li>\n",
       "\t<li>1965</li>\n",
       "\t<li>1997</li>\n",
       "\t<li>1960</li>\n",
       "\t<li>1927</li>\n",
       "\t<li>2011</li>\n",
       "\t<li>1989</li>\n",
       "\t<li>1950</li>\n",
       "\t<li>2009</li>\n",
       "\t<li>1950</li>\n",
       "\t<li>1961</li>\n",
       "\t<li>2005</li>\n",
       "\t<li>1985</li>\n",
       "\t<li>1924</li>\n",
       "\t<li>1998</li>\n",
       "\t<li>2018</li>\n",
       "\t<li>2003</li>\n",
       "\t<li>2010</li>\n",
       "\t<li>1967</li>\n",
       "\t<li>1940</li>\n",
       "\t<li>1953</li>\n",
       "\t<li>2016</li>\n",
       "\t<li>2009</li>\n",
       "\t<li>1927</li>\n",
       "\t<li>2014</li>\n",
       "\t<li>2010</li>\n",
       "\t<li>2014</li>\n",
       "\t<li>1993</li>\n",
       "\t<li>2007</li>\n",
       "\t<li>1979</li>\n",
       "\t<li>1996</li>\n",
       "\t<li>1934</li>\n",
       "\t<li>1993</li>\n",
       "\t<li>1986</li>\n",
       "\t<li>2014</li>\n",
       "\t<li>1986</li>\n",
       "\t<li>1976</li>\n",
       "\t<li>1998</li>\n",
       "\t<li>1979</li>\n",
       "\t<li>2004</li>\n",
       "\t<li>1959</li>\n",
       "\t<li>1966</li>\n",
       "\t<li>2003</li>\n",
       "\t<li>1966</li>\n",
       "\t<li>2013</li>\n",
       "\t<li>2004</li>\n",
       "\t<li>1953</li>\n",
       "\t<li>2006</li>\n",
       "\t<li>1928</li>\n",
       "\t<li>2013</li>\n",
       "\t<li>2015</li>\n",
       "\t<li>1995</li>\n",
       "\t<li>1959</li>\n",
       "\t<li>2015</li>\n",
       "\t<li>2017</li>\n",
       "\t<li>2009</li>\n",
       "\t<li>2000</li>\n",
       "\t<li>2013</li>\n",
       "\t<li>1987</li>\n",
       "\t<li>1984</li>\n",
       "\t<li>2002</li>\n",
       "\t<li>1969</li>\n",
       "\t<li>2011</li>\n",
       "\t<li>1976</li>\n",
       "\t<li>1975</li>\n",
       "\t<li>2001</li>\n",
       "\t<li>1940</li>\n",
       "\t<li>1941</li>\n",
       "\t<li>1962</li>\n",
       "\t<li>1955</li>\n",
       "\t<li>2001</li>\n",
       "\t<li>1984</li>\n",
       "\t<li>1982</li>\n",
       "\t<li>1989</li>\n",
       "\t<li>2017</li>\n",
       "\t<li>1995</li>\n",
       "\t<li>1957</li>\n",
       "\t<li>1993</li>\n",
       "\t<li>2016</li>\n",
       "\t<li>1939</li>\n",
       "\t<li>1975</li>\n",
       "\t<li>2011</li>\n",
       "\t<li>2000</li>\n",
       "\t<li>1973</li>\n",
       "\t<li>2012</li>\n",
       "\t<li>2004</li>\n",
       "\t<li>2008</li>\n",
       "\t<li>2013</li>\n",
       "\t<li>1984</li>\n",
       "\t<li>2007</li>\n",
       "\t<li>2014</li>\n",
       "\t<li>2016</li>\n",
       "\t<li>2014</li>\n",
       "\t<li>2003</li>\n",
       "\t<li>1986</li>\n",
       "\t<li>1946</li>\n",
       "\t<li>1991</li>\n",
       "</ol>\n"
      ],
      "text/latex": [
       "\\begin{enumerate*}\n",
       "\\item 1994\n",
       "\\item 1972\n",
       "\\item 1974\n",
       "\\item 2008\n",
       "\\item 1957\n",
       "\\item 1993\n",
       "\\item 2003\n",
       "\\item 1994\n",
       "\\item 1966\n",
       "\\item 1999\n",
       "\\item 2001\n",
       "\\item 1994\n",
       "\\item 1980\n",
       "\\item 2010\n",
       "\\item 2002\n",
       "\\item 1975\n",
       "\\item 1990\n",
       "\\item 1999\n",
       "\\item 1954\n",
       "\\item 2002\n",
       "\\item 1995\n",
       "\\item 1977\n",
       "\\item 1991\n",
       "\\item 1946\n",
       "\\item 1997\n",
       "\\item 1995\n",
       "\\item 2001\n",
       "\\item 1998\n",
       "\\item 1994\n",
       "\\item 1999\n",
       "\\item 2014\n",
       "\\item 1960\n",
       "\\item 1998\n",
       "\\item 1931\n",
       "\\item 1968\n",
       "\\item 1942\n",
       "\\item 1936\n",
       "\\item 2011\n",
       "\\item 2002\n",
       "\\item 2006\n",
       "\\item 1991\n",
       "\\item 1985\n",
       "\\item 2014\n",
       "\\item 1954\n",
       "\\item 1981\n",
       "\\item 2000\n",
       "\\item 1994\n",
       "\\item 2006\n",
       "\\item 2018\n",
       "\\item 1979\n",
       "\\item 2000\n",
       "\\item 1979\n",
       "\\item 1940\n",
       "\\item 1988\n",
       "\\item 1988\n",
       "\\item 1950\n",
       "\\item 2006\n",
       "\\item 1964\n",
       "\\item 1957\n",
       "\\item 1980\n",
       "\\item 2012\n",
       "\\item 2008\n",
       "\\item 1997\n",
       "\\item 1957\n",
       "\\item 1999\n",
       "\\item 2012\n",
       "\\item 2017\n",
       "\\item 2003\n",
       "\\item 1986\n",
       "\\item 1984\n",
       "\\item 1981\n",
       "\\item 1941\n",
       "\\item 1995\n",
       "\\item 1958\n",
       "\\item 1959\n",
       "\\item 1992\n",
       "\\item 1983\n",
       "\\item 2016\n",
       "\\item 1931\n",
       "\\item 2016\n",
       "\\item 2000\n",
       "\\item 1984\n",
       "\\item 2007\n",
       "\\item 1962\n",
       "\\item 2004\n",
       "\\item 1971\n",
       "\\item 2001\n",
       "\\item 1944\n",
       "\\item 2009\n",
       "\\item 1968\n",
       "\\item 1995\n",
       "\\item 1976\n",
       "\\item 1952\n",
       "\\item 1987\n",
       "\\item 2009\n",
       "\\item 1962\n",
       "\\item 1948\n",
       "\\item 1921\n",
       "\\item 1973\n",
       "\\item 2010\n",
       "\\item 1997\n",
       "\\item 2012\n",
       "\\item 2000\n",
       "\\item 1975\n",
       "\\item 1983\n",
       "\\item 1965\n",
       "\\item 1997\n",
       "\\item 1960\n",
       "\\item 1927\n",
       "\\item 2011\n",
       "\\item 1989\n",
       "\\item 1950\n",
       "\\item 2009\n",
       "\\item 1950\n",
       "\\item 1961\n",
       "\\item 2005\n",
       "\\item 1985\n",
       "\\item 1924\n",
       "\\item 1998\n",
       "\\item 2018\n",
       "\\item 2003\n",
       "\\item 2010\n",
       "\\item 1967\n",
       "\\item 1940\n",
       "\\item 1953\n",
       "\\item 2016\n",
       "\\item 2009\n",
       "\\item 1927\n",
       "\\item 2014\n",
       "\\item 2010\n",
       "\\item 2014\n",
       "\\item 1993\n",
       "\\item 2007\n",
       "\\item 1979\n",
       "\\item 1996\n",
       "\\item 1934\n",
       "\\item 1993\n",
       "\\item 1986\n",
       "\\item 2014\n",
       "\\item 1986\n",
       "\\item 1976\n",
       "\\item 1998\n",
       "\\item 1979\n",
       "\\item 2004\n",
       "\\item 1959\n",
       "\\item 1966\n",
       "\\item 2003\n",
       "\\item 1966\n",
       "\\item 2013\n",
       "\\item 2004\n",
       "\\item 1953\n",
       "\\item 2006\n",
       "\\item 1928\n",
       "\\item 2013\n",
       "\\item 2015\n",
       "\\item 1995\n",
       "\\item 1959\n",
       "\\item 2015\n",
       "\\item 2017\n",
       "\\item 2009\n",
       "\\item 2000\n",
       "\\item 2013\n",
       "\\item 1987\n",
       "\\item 1984\n",
       "\\item 2002\n",
       "\\item 1969\n",
       "\\item 2011\n",
       "\\item 1976\n",
       "\\item 1975\n",
       "\\item 2001\n",
       "\\item 1940\n",
       "\\item 1941\n",
       "\\item 1962\n",
       "\\item 1955\n",
       "\\item 2001\n",
       "\\item 1984\n",
       "\\item 1982\n",
       "\\item 1989\n",
       "\\item 2017\n",
       "\\item 1995\n",
       "\\item 1957\n",
       "\\item 1993\n",
       "\\item 2016\n",
       "\\item 1939\n",
       "\\item 1975\n",
       "\\item 2011\n",
       "\\item 2000\n",
       "\\item 1973\n",
       "\\item 2012\n",
       "\\item 2004\n",
       "\\item 2008\n",
       "\\item 2013\n",
       "\\item 1984\n",
       "\\item 2007\n",
       "\\item 2014\n",
       "\\item 2016\n",
       "\\item 2014\n",
       "\\item 2003\n",
       "\\item 1986\n",
       "\\item 1946\n",
       "\\item 1991\n",
       "\\end{enumerate*}\n"
      ],
      "text/markdown": [
       "1. 1994\n",
       "2. 1972\n",
       "3. 1974\n",
       "4. 2008\n",
       "5. 1957\n",
       "6. 1993\n",
       "7. 2003\n",
       "8. 1994\n",
       "9. 1966\n",
       "10. 1999\n",
       "11. 2001\n",
       "12. 1994\n",
       "13. 1980\n",
       "14. 2010\n",
       "15. 2002\n",
       "16. 1975\n",
       "17. 1990\n",
       "18. 1999\n",
       "19. 1954\n",
       "20. 2002\n",
       "21. 1995\n",
       "22. 1977\n",
       "23. 1991\n",
       "24. 1946\n",
       "25. 1997\n",
       "26. 1995\n",
       "27. 2001\n",
       "28. 1998\n",
       "29. 1994\n",
       "30. 1999\n",
       "31. 2014\n",
       "32. 1960\n",
       "33. 1998\n",
       "34. 1931\n",
       "35. 1968\n",
       "36. 1942\n",
       "37. 1936\n",
       "38. 2011\n",
       "39. 2002\n",
       "40. 2006\n",
       "41. 1991\n",
       "42. 1985\n",
       "43. 2014\n",
       "44. 1954\n",
       "45. 1981\n",
       "46. 2000\n",
       "47. 1994\n",
       "48. 2006\n",
       "49. 2018\n",
       "50. 1979\n",
       "51. 2000\n",
       "52. 1979\n",
       "53. 1940\n",
       "54. 1988\n",
       "55. 1988\n",
       "56. 1950\n",
       "57. 2006\n",
       "58. 1964\n",
       "59. 1957\n",
       "60. 1980\n",
       "61. 2012\n",
       "62. 2008\n",
       "63. 1997\n",
       "64. 1957\n",
       "65. 1999\n",
       "66. 2012\n",
       "67. 2017\n",
       "68. 2003\n",
       "69. 1986\n",
       "70. 1984\n",
       "71. 1981\n",
       "72. 1941\n",
       "73. 1995\n",
       "74. 1958\n",
       "75. 1959\n",
       "76. 1992\n",
       "77. 1983\n",
       "78. 2016\n",
       "79. 1931\n",
       "80. 2016\n",
       "81. 2000\n",
       "82. 1984\n",
       "83. 2007\n",
       "84. 1962\n",
       "85. 2004\n",
       "86. 1971\n",
       "87. 2001\n",
       "88. 1944\n",
       "89. 2009\n",
       "90. 1968\n",
       "91. 1995\n",
       "92. 1976\n",
       "93. 1952\n",
       "94. 1987\n",
       "95. 2009\n",
       "96. 1962\n",
       "97. 1948\n",
       "98. 1921\n",
       "99. 1973\n",
       "100. 2010\n",
       "101. 1997\n",
       "102. 2012\n",
       "103. 2000\n",
       "104. 1975\n",
       "105. 1983\n",
       "106. 1965\n",
       "107. 1997\n",
       "108. 1960\n",
       "109. 1927\n",
       "110. 2011\n",
       "111. 1989\n",
       "112. 1950\n",
       "113. 2009\n",
       "114. 1950\n",
       "115. 1961\n",
       "116. 2005\n",
       "117. 1985\n",
       "118. 1924\n",
       "119. 1998\n",
       "120. 2018\n",
       "121. 2003\n",
       "122. 2010\n",
       "123. 1967\n",
       "124. 1940\n",
       "125. 1953\n",
       "126. 2016\n",
       "127. 2009\n",
       "128. 1927\n",
       "129. 2014\n",
       "130. 2010\n",
       "131. 2014\n",
       "132. 1993\n",
       "133. 2007\n",
       "134. 1979\n",
       "135. 1996\n",
       "136. 1934\n",
       "137. 1993\n",
       "138. 1986\n",
       "139. 2014\n",
       "140. 1986\n",
       "141. 1976\n",
       "142. 1998\n",
       "143. 1979\n",
       "144. 2004\n",
       "145. 1959\n",
       "146. 1966\n",
       "147. 2003\n",
       "148. 1966\n",
       "149. 2013\n",
       "150. 2004\n",
       "151. 1953\n",
       "152. 2006\n",
       "153. 1928\n",
       "154. 2013\n",
       "155. 2015\n",
       "156. 1995\n",
       "157. 1959\n",
       "158. 2015\n",
       "159. 2017\n",
       "160. 2009\n",
       "161. 2000\n",
       "162. 2013\n",
       "163. 1987\n",
       "164. 1984\n",
       "165. 2002\n",
       "166. 1969\n",
       "167. 2011\n",
       "168. 1976\n",
       "169. 1975\n",
       "170. 2001\n",
       "171. 1940\n",
       "172. 1941\n",
       "173. 1962\n",
       "174. 1955\n",
       "175. 2001\n",
       "176. 1984\n",
       "177. 1982\n",
       "178. 1989\n",
       "179. 2017\n",
       "180. 1995\n",
       "181. 1957\n",
       "182. 1993\n",
       "183. 2016\n",
       "184. 1939\n",
       "185. 1975\n",
       "186. 2011\n",
       "187. 2000\n",
       "188. 1973\n",
       "189. 2012\n",
       "190. 2004\n",
       "191. 2008\n",
       "192. 2013\n",
       "193. 1984\n",
       "194. 2007\n",
       "195. 2014\n",
       "196. 2016\n",
       "197. 2014\n",
       "198. 2003\n",
       "199. 1986\n",
       "200. 1946\n",
       "201. 1991\n",
       "\n",
       "\n"
      ],
      "text/plain": [
       "  [1] 1994 1972 1974 2008 1957 1993 2003 1994 1966 1999 2001 1994 1980 2010 2002\n",
       " [16] 1975 1990 1999 1954 2002 1995 1977 1991 1946 1997 1995 2001 1998 1994 1999\n",
       " [31] 2014 1960 1998 1931 1968 1942 1936 2011 2002 2006 1991 1985 2014 1954 1981\n",
       " [46] 2000 1994 2006 2018 1979 2000 1979 1940 1988 1988 1950 2006 1964 1957 1980\n",
       " [61] 2012 2008 1997 1957 1999 2012 2017 2003 1986 1984 1981 1941 1995 1958 1959\n",
       " [76] 1992 1983 2016 1931 2016 2000 1984 2007 1962 2004 1971 2001 1944 2009 1968\n",
       " [91] 1995 1976 1952 1987 2009 1962 1948 1921 1973 2010 1997 2012 2000 1975 1983\n",
       "[106] 1965 1997 1960 1927 2011 1989 1950 2009 1950 1961 2005 1985 1924 1998 2018\n",
       "[121] 2003 2010 1967 1940 1953 2016 2009 1927 2014 2010 2014 1993 2007 1979 1996\n",
       "[136] 1934 1993 1986 2014 1986 1976 1998 1979 2004 1959 1966 2003 1966 2013 2004\n",
       "[151] 1953 2006 1928 2013 2015 1995 1959 2015 2017 2009 2000 2013 1987 1984 2002\n",
       "[166] 1969 2011 1976 1975 2001 1940 1941 1962 1955 2001 1984 1982 1989 2017 1995\n",
       "[181] 1957 1993 2016 1939 1975 2011 2000 1973 2012 2004 2008 2013 1984 2007 2014\n",
       "[196] 2016 2014 2003 1986 1946 1991"
      ]
     },
     "metadata": {},
     "output_type": "display_data"
    }
   ],
   "source": [
    "# einzelne Spalte anzeigen lassen\n",
    "top250.t[,3]"
   ]
  },
  {
   "cell_type": "code",
   "execution_count": 138,
   "metadata": {
    "collapsed": false
   },
   "outputs": [
    {
     "data": {
      "text/html": [
       "<table>\n",
       "<thead><tr><th scope=col>V1</th><th scope=col>V2</th><th scope=col>V3</th><th scope=col>V4</th><th scope=col>V5</th><th scope=col>V6</th><th scope=col>V7</th></tr></thead>\n",
       "<tbody>\n",
       "\t<tr><td>1               </td><td>Die Verurteilten</td><td>1994            </td><td>9,2             </td><td>12345678910     </td><td>NOT YET RELEASED</td><td>Seen            </td></tr>\n",
       "\t<tr><td>2               </td><td>Der Pate        </td><td>1972            </td><td>9,2             </td><td>12345678910     </td><td>NOT YET RELEASED</td><td>Seen            </td></tr>\n",
       "\t<tr><td>3               </td><td>Der Pate 2      </td><td>1974            </td><td>9,0             </td><td>12345678910     </td><td>NOT YET RELEASED</td><td>Seen            </td></tr>\n",
       "\t<tr><td>4               </td><td>The Dark Knight </td><td>2008            </td><td>9,0             </td><td>12345678910     </td><td>NOT YET RELEASED</td><td>Seen            </td></tr>\n",
       "</tbody>\n",
       "</table>\n"
      ],
      "text/latex": [
       "\\begin{tabular}{r|lllllll}\n",
       " V1 & V2 & V3 & V4 & V5 & V6 & V7\\\\\n",
       "\\hline\n",
       "\t 1                & Die Verurteilten & 1994             & 9,2              & 12345678910      & NOT YET RELEASED & Seen            \\\\\n",
       "\t 2                & Der Pate         & 1972             & 9,2              & 12345678910      & NOT YET RELEASED & Seen            \\\\\n",
       "\t 3                & Der Pate 2       & 1974             & 9,0              & 12345678910      & NOT YET RELEASED & Seen            \\\\\n",
       "\t 4                & The Dark Knight  & 2008             & 9,0              & 12345678910      & NOT YET RELEASED & Seen            \\\\\n",
       "\\end{tabular}\n"
      ],
      "text/markdown": [
       "\n",
       "V1 | V2 | V3 | V4 | V5 | V6 | V7 | \n",
       "|---|---|---|---|\n",
       "| 1                | Die Verurteilten | 1994             | 9,2              | 12345678910      | NOT YET RELEASED | Seen             | \n",
       "| 2                | Der Pate         | 1972             | 9,2              | 12345678910      | NOT YET RELEASED | Seen             | \n",
       "| 3                | Der Pate 2       | 1974             | 9,0              | 12345678910      | NOT YET RELEASED | Seen             | \n",
       "| 4                | The Dark Knight  | 2008             | 9,0              | 12345678910      | NOT YET RELEASED | Seen             | \n",
       "\n",
       "\n"
      ],
      "text/plain": [
       "  V1 V2               V3   V4  V5          V6               V7  \n",
       "1 1  Die Verurteilten 1994 9,2 12345678910 NOT YET RELEASED Seen\n",
       "2 2  Der Pate         1972 9,2 12345678910 NOT YET RELEASED Seen\n",
       "3 3  Der Pate 2       1974 9,0 12345678910 NOT YET RELEASED Seen\n",
       "4 4  The Dark Knight  2008 9,0 12345678910 NOT YET RELEASED Seen"
      ]
     },
     "metadata": {},
     "output_type": "display_data"
    }
   ],
   "source": [
    "# um mehrere Zeilen auszuwählen, wird der Bereich angegeben\n",
    "top250.t[1:4,]"
   ]
  },
  {
   "cell_type": "code",
   "execution_count": 139,
   "metadata": {
    "collapsed": false
   },
   "outputs": [
    {
     "data": {
      "text/html": [
       "<table>\n",
       "<thead><tr><th scope=col>V2</th><th scope=col>V3</th></tr></thead>\n",
       "<tbody>\n",
       "\t<tr><td>Die Verurteilten                            </td><td>1994                                        </td></tr>\n",
       "\t<tr><td>Der Pate                                    </td><td>1972                                        </td></tr>\n",
       "\t<tr><td>Der Pate 2                                  </td><td>1974                                        </td></tr>\n",
       "\t<tr><td>The Dark Knight                             </td><td>2008                                        </td></tr>\n",
       "\t<tr><td>Die zwölf Geschworenen                      </td><td>1957                                        </td></tr>\n",
       "\t<tr><td>Schindlers Liste                            </td><td>1993                                        </td></tr>\n",
       "\t<tr><td>Der Herr der Ringe - Die Rückkehr des Königs</td><td>2003                                        </td></tr>\n",
       "\t<tr><td>Pulp Fiction                                </td><td>1994                                        </td></tr>\n",
       "\t<tr><td>Zwei glorreiche Halunken                    </td><td>1966                                        </td></tr>\n",
       "\t<tr><td>Fight Club                                  </td><td>1999                                        </td></tr>\n",
       "\t<tr><td>Der Herr der Ringe - Die Gefährten          </td><td>2001                                        </td></tr>\n",
       "\t<tr><td>Forrest Gump                                </td><td>1994                                        </td></tr>\n",
       "\t<tr><td>Das Imperium schlägt zurück                 </td><td>1980                                        </td></tr>\n",
       "\t<tr><td>Inception                                   </td><td>2010                                        </td></tr>\n",
       "\t<tr><td>Der Herr der Ringe - Die zwei Türme         </td><td>2002                                        </td></tr>\n",
       "\t<tr><td>Einer flog über das Kuckucksnest            </td><td>1975                                        </td></tr>\n",
       "\t<tr><td>GoodFellas - Drei Jahrzehnte in der Mafia   </td><td>1990                                        </td></tr>\n",
       "\t<tr><td>Matrix                                      </td><td>1999                                        </td></tr>\n",
       "\t<tr><td>Die sieben Samurai                          </td><td>1954                                        </td></tr>\n",
       "\t<tr><td>City of God                                 </td><td>2002                                        </td></tr>\n",
       "\t<tr><td>Sieben                                      </td><td>1995                                        </td></tr>\n",
       "\t<tr><td>Krieg der Sterne                            </td><td>1977                                        </td></tr>\n",
       "\t<tr><td>Das Schweigen der Lämmer                    </td><td>1991                                        </td></tr>\n",
       "\t<tr><td>Ist das Leben nicht schön?                  </td><td>1946                                        </td></tr>\n",
       "\t<tr><td>Das Leben ist schön                         </td><td>1997                                        </td></tr>\n",
       "\t<tr><td>Die üblichen Verdächtigen                   </td><td>1995                                        </td></tr>\n",
       "\t<tr><td>Chihiros Reise ins Zauberland               </td><td>2001                                        </td></tr>\n",
       "\t<tr><td>Der Soldat James Ryan                       </td><td>1998                                        </td></tr>\n",
       "\t<tr><td>Léon - Der Profi                            </td><td>1994                                        </td></tr>\n",
       "\t<tr><td>The Green Mile                              </td><td>1999                                        </td></tr>\n",
       "\t<tr><td>...</td><td>...</td></tr>\n",
       "\t<tr><td>Die Spur des Falken                       </td><td>1941                                      </td></tr>\n",
       "\t<tr><td>Sanjuro                                   </td><td>1962                                      </td></tr>\n",
       "\t<tr><td>Die Teuflischen                           </td><td>1955                                      </td></tr>\n",
       "\t<tr><td>Donnie Darko                              </td><td>2001                                      </td></tr>\n",
       "\t<tr><td>Terminator                                </td><td>1984                                      </td></tr>\n",
       "\t<tr><td>Gandhi                                    </td><td>1982                                      </td></tr>\n",
       "\t<tr><td>Der Club der toten Dichter                </td><td>1989                                      </td></tr>\n",
       "\t<tr><td>Blade Runner 2049                         </td><td>2017                                      </td></tr>\n",
       "\t<tr><td>Hass                                      </td><td>1995                                      </td></tr>\n",
       "\t<tr><td>Die Nächte der Cabiria                    </td><td>1957                                      </td></tr>\n",
       "\t<tr><td>...und täglich grüßt das Murmeltier       </td><td>1993                                      </td></tr>\n",
       "\t<tr><td>La La Land                                </td><td>2016                                      </td></tr>\n",
       "\t<tr><td>Der Zauberer von Oz                       </td><td>1939                                      </td></tr>\n",
       "\t<tr><td>Der weiße Hai                             </td><td>1975                                      </td></tr>\n",
       "\t<tr><td>The Help                                  </td><td>2011                                      </td></tr>\n",
       "\t<tr><td>In the Mood for Love - Der Klang der Liebe</td><td>2000                                      </td></tr>\n",
       "\t<tr><td>Paper Moon                                </td><td>1973                                      </td></tr>\n",
       "\t<tr><td>Gangs of Wasseypur                        </td><td>2012                                      </td></tr>\n",
       "\t<tr><td>Before Sunset                             </td><td>2004                                      </td></tr>\n",
       "\t<tr><td>A Wednesday                               </td><td>2008                                      </td></tr>\n",
       "\t<tr><td>Tangerines                                </td><td>2013                                      </td></tr>\n",
       "\t<tr><td>Paris, Texas                              </td><td>1984                                      </td></tr>\n",
       "\t<tr><td>Das Bourne Ultimatum                      </td><td>2007                                      </td></tr>\n",
       "\t<tr><td>Guardians of the Galaxy                   </td><td>2014                                      </td></tr>\n",
       "\t<tr><td>Die Taschendiebin                         </td><td>2016                                      </td></tr>\n",
       "\t<tr><td>PK - Andere Sterne, Andere Sitten         </td><td>2014                                      </td></tr>\n",
       "\t<tr><td>Fluch der Karibik                         </td><td>2003                                      </td></tr>\n",
       "\t<tr><td>Das Schloss im Himmel                     </td><td>1986                                      </td></tr>\n",
       "\t<tr><td>Die besten Jahre unseres Lebens           </td><td>1946                                      </td></tr>\n",
       "\t<tr><td>Die Schöne und das Biest                  </td><td>1991                                      </td></tr>\n",
       "</tbody>\n",
       "</table>\n"
      ],
      "text/latex": [
       "\\begin{tabular}{r|ll}\n",
       " V2 & V3\\\\\n",
       "\\hline\n",
       "\t Die Verurteilten                             & 1994                                        \\\\\n",
       "\t Der Pate                                     & 1972                                        \\\\\n",
       "\t Der Pate 2                                   & 1974                                        \\\\\n",
       "\t The Dark Knight                              & 2008                                        \\\\\n",
       "\t Die zwölf Geschworenen                       & 1957                                        \\\\\n",
       "\t Schindlers Liste                             & 1993                                        \\\\\n",
       "\t Der Herr der Ringe - Die Rückkehr des Königs & 2003                                        \\\\\n",
       "\t Pulp Fiction                                 & 1994                                        \\\\\n",
       "\t Zwei glorreiche Halunken                     & 1966                                        \\\\\n",
       "\t Fight Club                                   & 1999                                        \\\\\n",
       "\t Der Herr der Ringe - Die Gefährten           & 2001                                        \\\\\n",
       "\t Forrest Gump                                 & 1994                                        \\\\\n",
       "\t Das Imperium schlägt zurück                  & 1980                                        \\\\\n",
       "\t Inception                                    & 2010                                        \\\\\n",
       "\t Der Herr der Ringe - Die zwei Türme          & 2002                                        \\\\\n",
       "\t Einer flog über das Kuckucksnest             & 1975                                        \\\\\n",
       "\t GoodFellas - Drei Jahrzehnte in der Mafia    & 1990                                        \\\\\n",
       "\t Matrix                                       & 1999                                        \\\\\n",
       "\t Die sieben Samurai                           & 1954                                        \\\\\n",
       "\t City of God                                  & 2002                                        \\\\\n",
       "\t Sieben                                       & 1995                                        \\\\\n",
       "\t Krieg der Sterne                             & 1977                                        \\\\\n",
       "\t Das Schweigen der Lämmer                     & 1991                                        \\\\\n",
       "\t Ist das Leben nicht schön?                   & 1946                                        \\\\\n",
       "\t Das Leben ist schön                          & 1997                                        \\\\\n",
       "\t Die üblichen Verdächtigen                    & 1995                                        \\\\\n",
       "\t Chihiros Reise ins Zauberland                & 2001                                        \\\\\n",
       "\t Der Soldat James Ryan                        & 1998                                        \\\\\n",
       "\t Léon - Der Profi                             & 1994                                        \\\\\n",
       "\t The Green Mile                               & 1999                                        \\\\\n",
       "\t ... & ...\\\\\n",
       "\t Die Spur des Falken                        & 1941                                      \\\\\n",
       "\t Sanjuro                                    & 1962                                      \\\\\n",
       "\t Die Teuflischen                            & 1955                                      \\\\\n",
       "\t Donnie Darko                               & 2001                                      \\\\\n",
       "\t Terminator                                 & 1984                                      \\\\\n",
       "\t Gandhi                                     & 1982                                      \\\\\n",
       "\t Der Club der toten Dichter                 & 1989                                      \\\\\n",
       "\t Blade Runner 2049                          & 2017                                      \\\\\n",
       "\t Hass                                       & 1995                                      \\\\\n",
       "\t Die Nächte der Cabiria                     & 1957                                      \\\\\n",
       "\t ...und täglich grüßt das Murmeltier        & 1993                                      \\\\\n",
       "\t La La Land                                 & 2016                                      \\\\\n",
       "\t Der Zauberer von Oz                        & 1939                                      \\\\\n",
       "\t Der weiße Hai                              & 1975                                      \\\\\n",
       "\t The Help                                   & 2011                                      \\\\\n",
       "\t In the Mood for Love - Der Klang der Liebe & 2000                                      \\\\\n",
       "\t Paper Moon                                 & 1973                                      \\\\\n",
       "\t Gangs of Wasseypur                         & 2012                                      \\\\\n",
       "\t Before Sunset                              & 2004                                      \\\\\n",
       "\t A Wednesday                                & 2008                                      \\\\\n",
       "\t Tangerines                                 & 2013                                      \\\\\n",
       "\t Paris, Texas                               & 1984                                      \\\\\n",
       "\t Das Bourne Ultimatum                       & 2007                                      \\\\\n",
       "\t Guardians of the Galaxy                    & 2014                                      \\\\\n",
       "\t Die Taschendiebin                          & 2016                                      \\\\\n",
       "\t PK - Andere Sterne, Andere Sitten          & 2014                                      \\\\\n",
       "\t Fluch der Karibik                          & 2003                                      \\\\\n",
       "\t Das Schloss im Himmel                      & 1986                                      \\\\\n",
       "\t Die besten Jahre unseres Lebens            & 1946                                      \\\\\n",
       "\t Die Schöne und das Biest                   & 1991                                      \\\\\n",
       "\\end{tabular}\n"
      ],
      "text/markdown": [
       "\n",
       "V2 | V3 | \n",
       "|---|---|---|---|---|---|---|---|---|---|---|---|---|---|---|---|---|---|---|---|---|---|---|---|---|---|---|---|---|---|---|---|---|---|---|---|---|---|---|---|---|---|---|---|---|---|---|---|---|---|---|---|---|---|---|---|---|---|---|---|---|\n",
       "| Die Verurteilten                             | 1994                                         | \n",
       "| Der Pate                                     | 1972                                         | \n",
       "| Der Pate 2                                   | 1974                                         | \n",
       "| The Dark Knight                              | 2008                                         | \n",
       "| Die zwölf Geschworenen                       | 1957                                         | \n",
       "| Schindlers Liste                             | 1993                                         | \n",
       "| Der Herr der Ringe - Die Rückkehr des Königs | 2003                                         | \n",
       "| Pulp Fiction                                 | 1994                                         | \n",
       "| Zwei glorreiche Halunken                     | 1966                                         | \n",
       "| Fight Club                                   | 1999                                         | \n",
       "| Der Herr der Ringe - Die Gefährten           | 2001                                         | \n",
       "| Forrest Gump                                 | 1994                                         | \n",
       "| Das Imperium schlägt zurück                  | 1980                                         | \n",
       "| Inception                                    | 2010                                         | \n",
       "| Der Herr der Ringe - Die zwei Türme          | 2002                                         | \n",
       "| Einer flog über das Kuckucksnest             | 1975                                         | \n",
       "| GoodFellas - Drei Jahrzehnte in der Mafia    | 1990                                         | \n",
       "| Matrix                                       | 1999                                         | \n",
       "| Die sieben Samurai                           | 1954                                         | \n",
       "| City of God                                  | 2002                                         | \n",
       "| Sieben                                       | 1995                                         | \n",
       "| Krieg der Sterne                             | 1977                                         | \n",
       "| Das Schweigen der Lämmer                     | 1991                                         | \n",
       "| Ist das Leben nicht schön?                   | 1946                                         | \n",
       "| Das Leben ist schön                          | 1997                                         | \n",
       "| Die üblichen Verdächtigen                    | 1995                                         | \n",
       "| Chihiros Reise ins Zauberland                | 2001                                         | \n",
       "| Der Soldat James Ryan                        | 1998                                         | \n",
       "| Léon - Der Profi                             | 1994                                         | \n",
       "| The Green Mile                               | 1999                                         | \n",
       "| ... | ... | \n",
       "| Die Spur des Falken                        | 1941                                       | \n",
       "| Sanjuro                                    | 1962                                       | \n",
       "| Die Teuflischen                            | 1955                                       | \n",
       "| Donnie Darko                               | 2001                                       | \n",
       "| Terminator                                 | 1984                                       | \n",
       "| Gandhi                                     | 1982                                       | \n",
       "| Der Club der toten Dichter                 | 1989                                       | \n",
       "| Blade Runner 2049                          | 2017                                       | \n",
       "| Hass                                       | 1995                                       | \n",
       "| Die Nächte der Cabiria                     | 1957                                       | \n",
       "| ...und täglich grüßt das Murmeltier        | 1993                                       | \n",
       "| La La Land                                 | 2016                                       | \n",
       "| Der Zauberer von Oz                        | 1939                                       | \n",
       "| Der weiße Hai                              | 1975                                       | \n",
       "| The Help                                   | 2011                                       | \n",
       "| In the Mood for Love - Der Klang der Liebe | 2000                                       | \n",
       "| Paper Moon                                 | 1973                                       | \n",
       "| Gangs of Wasseypur                         | 2012                                       | \n",
       "| Before Sunset                              | 2004                                       | \n",
       "| A Wednesday                                | 2008                                       | \n",
       "| Tangerines                                 | 2013                                       | \n",
       "| Paris, Texas                               | 1984                                       | \n",
       "| Das Bourne Ultimatum                       | 2007                                       | \n",
       "| Guardians of the Galaxy                    | 2014                                       | \n",
       "| Die Taschendiebin                          | 2016                                       | \n",
       "| PK - Andere Sterne, Andere Sitten          | 2014                                       | \n",
       "| Fluch der Karibik                          | 2003                                       | \n",
       "| Das Schloss im Himmel                      | 1986                                       | \n",
       "| Die besten Jahre unseres Lebens            | 1946                                       | \n",
       "| Die Schöne und das Biest                   | 1991                                       | \n",
       "\n",
       "\n"
      ],
      "text/plain": [
       "    V2                                           V3  \n",
       "1   Die Verurteilten                             1994\n",
       "2   Der Pate                                     1972\n",
       "3   Der Pate 2                                   1974\n",
       "4   The Dark Knight                              2008\n",
       "5   Die zwölf Geschworenen                       1957\n",
       "6   Schindlers Liste                             1993\n",
       "7   Der Herr der Ringe - Die Rückkehr des Königs 2003\n",
       "8   Pulp Fiction                                 1994\n",
       "9   Zwei glorreiche Halunken                     1966\n",
       "10  Fight Club                                   1999\n",
       "11  Der Herr der Ringe - Die Gefährten           2001\n",
       "12  Forrest Gump                                 1994\n",
       "13  Das Imperium schlägt zurück                  1980\n",
       "14  Inception                                    2010\n",
       "15  Der Herr der Ringe - Die zwei Türme          2002\n",
       "16  Einer flog über das Kuckucksnest             1975\n",
       "17  GoodFellas - Drei Jahrzehnte in der Mafia    1990\n",
       "18  Matrix                                       1999\n",
       "19  Die sieben Samurai                           1954\n",
       "20  City of God                                  2002\n",
       "21  Sieben                                       1995\n",
       "22  Krieg der Sterne                             1977\n",
       "23  Das Schweigen der Lämmer                     1991\n",
       "24  Ist das Leben nicht schön?                   1946\n",
       "25  Das Leben ist schön                          1997\n",
       "26  Die üblichen Verdächtigen                    1995\n",
       "27  Chihiros Reise ins Zauberland                2001\n",
       "28  Der Soldat James Ryan                        1998\n",
       "29  Léon - Der Profi                             1994\n",
       "30  The Green Mile                               1999\n",
       "... ...                                          ... \n",
       "172 Die Spur des Falken                          1941\n",
       "173 Sanjuro                                      1962\n",
       "174 Die Teuflischen                              1955\n",
       "175 Donnie Darko                                 2001\n",
       "176 Terminator                                   1984\n",
       "177 Gandhi                                       1982\n",
       "178 Der Club der toten Dichter                   1989\n",
       "179 Blade Runner 2049                            2017\n",
       "180 Hass                                         1995\n",
       "181 Die Nächte der Cabiria                       1957\n",
       "182 ...und täglich grüßt das Murmeltier          1993\n",
       "183 La La Land                                   2016\n",
       "184 Der Zauberer von Oz                          1939\n",
       "185 Der weiße Hai                                1975\n",
       "186 The Help                                     2011\n",
       "187 In the Mood for Love - Der Klang der Liebe   2000\n",
       "188 Paper Moon                                   1973\n",
       "189 Gangs of Wasseypur                           2012\n",
       "190 Before Sunset                                2004\n",
       "191 A Wednesday                                  2008\n",
       "192 Tangerines                                   2013\n",
       "193 Paris, Texas                                 1984\n",
       "194 Das Bourne Ultimatum                         2007\n",
       "195 Guardians of the Galaxy                      2014\n",
       "196 Die Taschendiebin                            2016\n",
       "197 PK - Andere Sterne, Andere Sitten            2014\n",
       "198 Fluch der Karibik                            2003\n",
       "199 Das Schloss im Himmel                        1986\n",
       "200 Die besten Jahre unseres Lebens              1946\n",
       "201 Die Schöne und das Biest                     1991"
      ]
     },
     "metadata": {},
     "output_type": "display_data"
    }
   ],
   "source": [
    "# um mehrere Spalten auszuwählen, wird der Bereich angegeben\n",
    "top250.t[,2:3]"
   ]
  },
  {
   "cell_type": "markdown",
   "metadata": {},
   "source": [
    "Um Spalten zu löschen, können die gewünschten Spaltennummern ausgewählt werden, die erhalten bleiben sollen und mit dem gleichen Variablen-Namen gespeichert werden.\n",
    "\n",
    ">Aufgabe: erstellen Sie eine neue Tabelle (mit dem gleichen Tabellen-Namen top250.t), der nur die Spalten 1-4 enthält.  \n",
    "Zur Überprüfung, lassen Sie sich die Zeilen 6-9 der neuen Tabelle anzeigen."
   ]
  },
  {
   "cell_type": "code",
   "execution_count": 140,
   "metadata": {
    "collapsed": false
   },
   "outputs": [],
   "source": [
    "top250.t <- top250.t[,1:4]"
   ]
  },
  {
   "cell_type": "code",
   "execution_count": 141,
   "metadata": {
    "collapsed": false
   },
   "outputs": [
    {
     "data": {
      "text/html": [
       "<table>\n",
       "<thead><tr><th></th><th scope=col>V1</th><th scope=col>V2</th><th scope=col>V3</th><th scope=col>V4</th></tr></thead>\n",
       "<tbody>\n",
       "\t<tr><th scope=row>6</th><td>6                                           </td><td>Schindlers Liste                            </td><td>1993                                        </td><td>8,9                                         </td></tr>\n",
       "\t<tr><th scope=row>7</th><td>7                                           </td><td>Der Herr der Ringe - Die Rückkehr des Königs</td><td>2003                                        </td><td>8,9                                         </td></tr>\n",
       "\t<tr><th scope=row>8</th><td>8                                           </td><td>Pulp Fiction                                </td><td>1994                                        </td><td>8,9                                         </td></tr>\n",
       "\t<tr><th scope=row>9</th><td>9                                           </td><td>Zwei glorreiche Halunken                    </td><td>1966                                        </td><td>8,8                                         </td></tr>\n",
       "</tbody>\n",
       "</table>\n"
      ],
      "text/latex": [
       "\\begin{tabular}{r|llll}\n",
       "  & V1 & V2 & V3 & V4\\\\\n",
       "\\hline\n",
       "\t6 & 6                                            & Schindlers Liste                             & 1993                                         & 8,9                                         \\\\\n",
       "\t7 & 7                                            & Der Herr der Ringe - Die Rückkehr des Königs & 2003                                         & 8,9                                         \\\\\n",
       "\t8 & 8                                            & Pulp Fiction                                 & 1994                                         & 8,9                                         \\\\\n",
       "\t9 & 9                                            & Zwei glorreiche Halunken                     & 1966                                         & 8,8                                         \\\\\n",
       "\\end{tabular}\n"
      ],
      "text/markdown": [
       "\n",
       "| <!--/--> | V1 | V2 | V3 | V4 | \n",
       "|---|---|---|---|\n",
       "| 6 | 6                                            | Schindlers Liste                             | 1993                                         | 8,9                                          | \n",
       "| 7 | 7                                            | Der Herr der Ringe - Die Rückkehr des Königs | 2003                                         | 8,9                                          | \n",
       "| 8 | 8                                            | Pulp Fiction                                 | 1994                                         | 8,9                                          | \n",
       "| 9 | 9                                            | Zwei glorreiche Halunken                     | 1966                                         | 8,8                                          | \n",
       "\n",
       "\n"
      ],
      "text/plain": [
       "  V1 V2                                           V3   V4 \n",
       "6 6  Schindlers Liste                             1993 8,9\n",
       "7 7  Der Herr der Ringe - Die Rückkehr des Königs 2003 8,9\n",
       "8 8  Pulp Fiction                                 1994 8,9\n",
       "9 9  Zwei glorreiche Halunken                     1966 8,8"
      ]
     },
     "metadata": {},
     "output_type": "display_data"
    }
   ],
   "source": [
    "top250.t[6:9,]"
   ]
  },
  {
   "cell_type": "markdown",
   "metadata": {},
   "source": [
    "### Spaltennamen hinzufügen"
   ]
  },
  {
   "cell_type": "code",
   "execution_count": 142,
   "metadata": {
    "collapsed": true
   },
   "outputs": [],
   "source": [
    "colnames(top250.t) <- c(\"Rang\", \"Titel\", \"Jahr\", \"Bewertung\")"
   ]
  },
  {
   "cell_type": "markdown",
   "metadata": {},
   "source": [
    ">Aufgabe: Überprüfen Sie, ob die Tabelle jetzt Spaltennamen hat (ohne sich die ganze Tabelle anzeigen zu lassen.)"
   ]
  },
  {
   "cell_type": "code",
   "execution_count": 143,
   "metadata": {
    "collapsed": false
   },
   "outputs": [
    {
     "data": {
      "text/html": [
       "<table>\n",
       "<thead><tr><th scope=col>Rang</th><th scope=col>Titel</th><th scope=col>Jahr</th><th scope=col>Bewertung</th></tr></thead>\n",
       "<tbody>\n",
       "\t<tr><td>1                     </td><td>Die Verurteilten      </td><td>1994                  </td><td>9,2                   </td></tr>\n",
       "\t<tr><td>2                     </td><td>Der Pate              </td><td>1972                  </td><td>9,2                   </td></tr>\n",
       "\t<tr><td>3                     </td><td>Der Pate 2            </td><td>1974                  </td><td>9,0                   </td></tr>\n",
       "\t<tr><td>4                     </td><td>The Dark Knight       </td><td>2008                  </td><td>9,0                   </td></tr>\n",
       "\t<tr><td>5                     </td><td>Die zwölf Geschworenen</td><td>1957                  </td><td>8,9                   </td></tr>\n",
       "\t<tr><td>6                     </td><td>Schindlers Liste      </td><td>1993                  </td><td>8,9                   </td></tr>\n",
       "</tbody>\n",
       "</table>\n"
      ],
      "text/latex": [
       "\\begin{tabular}{r|llll}\n",
       " Rang & Titel & Jahr & Bewertung\\\\\n",
       "\\hline\n",
       "\t 1                      & Die Verurteilten       & 1994                   & 9,2                   \\\\\n",
       "\t 2                      & Der Pate               & 1972                   & 9,2                   \\\\\n",
       "\t 3                      & Der Pate 2             & 1974                   & 9,0                   \\\\\n",
       "\t 4                      & The Dark Knight        & 2008                   & 9,0                   \\\\\n",
       "\t 5                      & Die zwölf Geschworenen & 1957                   & 8,9                   \\\\\n",
       "\t 6                      & Schindlers Liste       & 1993                   & 8,9                   \\\\\n",
       "\\end{tabular}\n"
      ],
      "text/markdown": [
       "\n",
       "Rang | Titel | Jahr | Bewertung | \n",
       "|---|---|---|---|---|---|\n",
       "| 1                      | Die Verurteilten       | 1994                   | 9,2                    | \n",
       "| 2                      | Der Pate               | 1972                   | 9,2                    | \n",
       "| 3                      | Der Pate 2             | 1974                   | 9,0                    | \n",
       "| 4                      | The Dark Knight        | 2008                   | 9,0                    | \n",
       "| 5                      | Die zwölf Geschworenen | 1957                   | 8,9                    | \n",
       "| 6                      | Schindlers Liste       | 1993                   | 8,9                    | \n",
       "\n",
       "\n"
      ],
      "text/plain": [
       "  Rang Titel                  Jahr Bewertung\n",
       "1 1    Die Verurteilten       1994 9,2      \n",
       "2 2    Der Pate               1972 9,2      \n",
       "3 3    Der Pate 2             1974 9,0      \n",
       "4 4    The Dark Knight        2008 9,0      \n",
       "5 5    Die zwölf Geschworenen 1957 8,9      \n",
       "6 6    Schindlers Liste       1993 8,9      "
      ]
     },
     "metadata": {},
     "output_type": "display_data"
    }
   ],
   "source": [
    "head(top250.t)"
   ]
  },
  {
   "cell_type": "markdown",
   "metadata": {},
   "source": [
    "## Visualisieren"
   ]
  },
  {
   "cell_type": "code",
   "execution_count": 144,
   "metadata": {
    "collapsed": false
   },
   "outputs": [
    {
     "data": {
      "image/png": "[encoded data removed]",
      "text/plain": [
       "plot without title"
      ]
     },
     "metadata": {},
     "output_type": "display_data"
    }
   ],
   "source": [
    "plot(top250.t$Jahr)"
   ]
  },
  {
   "cell_type": "markdown",
   "metadata": {},
   "source": [
    "Verteilung zeigt, dass zwar mehr Filme ab ca. den 90ern in den Top 250 sind als ältere Filme, dass es aber keinen Zusammenhang zwischen Alter des Filmes und der Beliebtheit gibt. "
   ]
  },
  {
   "cell_type": "markdown",
   "metadata": {},
   "source": [
    "### Filme nach Jahrzehnten gruppieren"
   ]
  },
  {
   "cell_type": "code",
   "execution_count": 145,
   "metadata": {
    "collapsed": false
   },
   "outputs": [
    {
     "name": "stdout",
     "output_type": "stream",
     "text": [
      "\n",
      "1921 1924 1927 1928 1931 1934 1936 1939 1940 1941 1942 1944 1946 1948 1950 1952 \n",
      "   1    1    2    1    2    1    1    1    3    2    1    1    2    1    3    1 \n",
      "1953 1954 1955 1957 1958 1959 1960 1961 1962 1964 1965 1966 1967 1968 1969 1971 \n",
      "   2    2    1    4    1    3    2    1    3    1    1    3    1    2    1    1 \n",
      "1972 1973 1974 1975 1976 1977 1979 1980 1981 1982 1983 1984 1985 1986 1987 1988 \n",
      "   1    2    1    4    3    1    4    2    2    1    2    5    2    4    2    2 \n",
      "1989 1990 1991 1992 1993 1994 1995 1996 1997 1998 1999 2000 2001 2002 2003 2004 \n",
      "   2    1    3    1    4    5    6    1    4    4    4    6    5    4    5    4 \n",
      "2005 2006 2007 2008 2009 2010 2011 2012 2013 2014 2015 2016 2017 2018 \n",
      "   1    4    3    3    5    4    4    4    4    7    2    5    3    2 \n"
     ]
    }
   ],
   "source": [
    "Tabelle <- table(top250.t$Jahr) #table-Funktion summiert nach gleichen Werten\n",
    "print(Tabelle)"
   ]
  },
  {
   "cell_type": "markdown",
   "metadata": {},
   "source": [
    ">Aufgabe: Können Sie die table-Funktion so umschreiben und erweitern, dass sie nicht die einzelnen Jahre, sondern Jahrzehnte zusammengefasst haben?"
   ]
  },
  {
   "cell_type": "code",
   "execution_count": 146,
   "metadata": {
    "collapsed": false
   },
   "outputs": [
    {
     "name": "stdout",
     "output_type": "stream",
     "text": [
      "\n",
      "192 193 194 195 196 197 198 199 200 201 \n",
      "  5   5  10  17  15  17  24  33  40  35 \n"
     ]
    }
   ],
   "source": [
    "TabelleJahrzehnt <- table(trunc(top250.t$Jahr/10)) # mathematische Operation und trunc-Funktion!\n",
    "print(TabelleJahrzehnt)"
   ]
  },
  {
   "cell_type": "code",
   "execution_count": 147,
   "metadata": {
    "collapsed": false
   },
   "outputs": [
    {
     "data": {
      "image/png": "[encoded data removed]",
      "text/plain": [
       "plot without title"
      ]
     },
     "metadata": {},
     "output_type": "display_data"
    }
   ],
   "source": [
    "#visualisiert sieht das so aus:\n",
    "plot(TabelleJahrzehnt)"
   ]
  },
  {
   "cell_type": "markdown",
   "metadata": {},
   "source": [
    "Statt 192, 193, ... soll am Ende \"1920er, 1930er, ...\" stehen. Dazu gehen wir nochmal einen Schritt zurück und erstellen eine Variable mit allen Jahreszahlen, die zu Jahrzehnten umgeschrieben werden (aber noch keine Häufigkeitstabelle!):"
   ]
  },
  {
   "cell_type": "code",
   "execution_count": 148,
   "metadata": {
    "collapsed": false
   },
   "outputs": [
    {
     "name": "stdout",
     "output_type": "stream",
     "text": [
      "  [1] 199 197 197 200 195 199 200 199 196 199 200 199 198 201 200 197 199 199\n",
      " [19] 195 200 199 197 199 194 199 199 200 199 199 199 201 196 199 193 196 194\n",
      " [37] 193 201 200 200 199 198 201 195 198 200 199 200 201 197 200 197 194 198\n",
      " [55] 198 195 200 196 195 198 201 200 199 195 199 201 201 200 198 198 198 194\n",
      " [73] 199 195 195 199 198 201 193 201 200 198 200 196 200 197 200 194 200 196\n",
      " [91] 199 197 195 198 200 196 194 192 197 201 199 201 200 197 198 196 199 196\n",
      "[109] 192 201 198 195 200 195 196 200 198 192 199 201 200 201 196 194 195 201\n",
      "[127] 200 192 201 201 201 199 200 197 199 193 199 198 201 198 197 199 197 200\n",
      "[145] 195 196 200 196 201 200 195 200 192 201 201 199 195 201 201 200 200 201\n",
      "[163] 198 198 200 196 201 197 197 200 194 194 196 195 200 198 198 198 201 199\n",
      "[181] 195 199 201 193 197 201 200 197 201 200 200 201 198 200 201 201 201 200\n",
      "[199] 198 194 199\n"
     ]
    }
   ],
   "source": [
    "dek <- trunc(top250.t$Jahr/10)\n",
    "print(dek)"
   ]
  },
  {
   "cell_type": "code",
   "execution_count": 149,
   "metadata": {
    "collapsed": false
   },
   "outputs": [
    {
     "name": "stdout",
     "output_type": "stream",
     "text": [
      "  [1] 1990 1970 1970 2000 1950 1990 2000 1990 1960 1990 2000 1990 1980 2010 2000\n",
      " [16] 1970 1990 1990 1950 2000 1990 1970 1990 1940 1990 1990 2000 1990 1990 1990\n",
      " [31] 2010 1960 1990 1930 1960 1940 1930 2010 2000 2000 1990 1980 2010 1950 1980\n",
      " [46] 2000 1990 2000 2010 1970 2000 1970 1940 1980 1980 1950 2000 1960 1950 1980\n",
      " [61] 2010 2000 1990 1950 1990 2010 2010 2000 1980 1980 1980 1940 1990 1950 1950\n",
      " [76] 1990 1980 2010 1930 2010 2000 1980 2000 1960 2000 1970 2000 1940 2000 1960\n",
      " [91] 1990 1970 1950 1980 2000 1960 1940 1920 1970 2010 1990 2010 2000 1970 1980\n",
      "[106] 1960 1990 1960 1920 2010 1980 1950 2000 1950 1960 2000 1980 1920 1990 2010\n",
      "[121] 2000 2010 1960 1940 1950 2010 2000 1920 2010 2010 2010 1990 2000 1970 1990\n",
      "[136] 1930 1990 1980 2010 1980 1970 1990 1970 2000 1950 1960 2000 1960 2010 2000\n",
      "[151] 1950 2000 1920 2010 2010 1990 1950 2010 2010 2000 2000 2010 1980 1980 2000\n",
      "[166] 1960 2010 1970 1970 2000 1940 1940 1960 1950 2000 1980 1980 1980 2010 1990\n",
      "[181] 1950 1990 2010 1930 1970 2010 2000 1970 2010 2000 2000 2010 1980 2000 2010\n",
      "[196] 2010 2010 2000 1980 1940 1990\n"
     ]
    }
   ],
   "source": [
    "# um aus 199, 197, 200 => 1990, 1970, 2000,... zu machen:\n",
    "dek <- 10*dek\n",
    "print(dek)"
   ]
  },
  {
   "cell_type": "code",
   "execution_count": 150,
   "metadata": {
    "collapsed": false
   },
   "outputs": [
    {
     "name": "stdout",
     "output_type": "stream",
     "text": [
      "  [1] \"1990er\" \"1970er\" \"1970er\" \"2000er\" \"1950er\" \"1990er\" \"2000er\" \"1990er\"\n",
      "  [9] \"1960er\" \"1990er\" \"2000er\" \"1990er\" \"1980er\" \"2010er\" \"2000er\" \"1970er\"\n",
      " [17] \"1990er\" \"1990er\" \"1950er\" \"2000er\" \"1990er\" \"1970er\" \"1990er\" \"1940er\"\n",
      " [25] \"1990er\" \"1990er\" \"2000er\" \"1990er\" \"1990er\" \"1990er\" \"2010er\" \"1960er\"\n",
      " [33] \"1990er\" \"1930er\" \"1960er\" \"1940er\" \"1930er\" \"2010er\" \"2000er\" \"2000er\"\n",
      " [41] \"1990er\" \"1980er\" \"2010er\" \"1950er\" \"1980er\" \"2000er\" \"1990er\" \"2000er\"\n",
      " [49] \"2010er\" \"1970er\" \"2000er\" \"1970er\" \"1940er\" \"1980er\" \"1980er\" \"1950er\"\n",
      " [57] \"2000er\" \"1960er\" \"1950er\" \"1980er\" \"2010er\" \"2000er\" \"1990er\" \"1950er\"\n",
      " [65] \"1990er\" \"2010er\" \"2010er\" \"2000er\" \"1980er\" \"1980er\" \"1980er\" \"1940er\"\n",
      " [73] \"1990er\" \"1950er\" \"1950er\" \"1990er\" \"1980er\" \"2010er\" \"1930er\" \"2010er\"\n",
      " [81] \"2000er\" \"1980er\" \"2000er\" \"1960er\" \"2000er\" \"1970er\" \"2000er\" \"1940er\"\n",
      " [89] \"2000er\" \"1960er\" \"1990er\" \"1970er\" \"1950er\" \"1980er\" \"2000er\" \"1960er\"\n",
      " [97] \"1940er\" \"1920er\" \"1970er\" \"2010er\" \"1990er\" \"2010er\" \"2000er\" \"1970er\"\n",
      "[105] \"1980er\" \"1960er\" \"1990er\" \"1960er\" \"1920er\" \"2010er\" \"1980er\" \"1950er\"\n",
      "[113] \"2000er\" \"1950er\" \"1960er\" \"2000er\" \"1980er\" \"1920er\" \"1990er\" \"2010er\"\n",
      "[121] \"2000er\" \"2010er\" \"1960er\" \"1940er\" \"1950er\" \"2010er\" \"2000er\" \"1920er\"\n",
      "[129] \"2010er\" \"2010er\" \"2010er\" \"1990er\" \"2000er\" \"1970er\" \"1990er\" \"1930er\"\n",
      "[137] \"1990er\" \"1980er\" \"2010er\" \"1980er\" \"1970er\" \"1990er\" \"1970er\" \"2000er\"\n",
      "[145] \"1950er\" \"1960er\" \"2000er\" \"1960er\" \"2010er\" \"2000er\" \"1950er\" \"2000er\"\n",
      "[153] \"1920er\" \"2010er\" \"2010er\" \"1990er\" \"1950er\" \"2010er\" \"2010er\" \"2000er\"\n",
      "[161] \"2000er\" \"2010er\" \"1980er\" \"1980er\" \"2000er\" \"1960er\" \"2010er\" \"1970er\"\n",
      "[169] \"1970er\" \"2000er\" \"1940er\" \"1940er\" \"1960er\" \"1950er\" \"2000er\" \"1980er\"\n",
      "[177] \"1980er\" \"1980er\" \"2010er\" \"1990er\" \"1950er\" \"1990er\" \"2010er\" \"1930er\"\n",
      "[185] \"1970er\" \"2010er\" \"2000er\" \"1970er\" \"2010er\" \"2000er\" \"2000er\" \"2010er\"\n",
      "[193] \"1980er\" \"2000er\" \"2010er\" \"2010er\" \"2010er\" \"2000er\" \"1980er\" \"1940er\"\n",
      "[201] \"1990er\"\n"
     ]
    }
   ],
   "source": [
    "#bislang haben wir noch Zahlen; jetzt machen wir aus den Zahlen Text, so dass aus 1990, 1970, ... => 1990er, 1970er, ... wird\n",
    "dek <- paste(dek,\"er\", sep=\"\") # hat 3 Parameter: die beiden Weret, die zusammen gefügt werden sollen und den Trenner. \n",
    "print(dek)"
   ]
  },
  {
   "cell_type": "code",
   "execution_count": 151,
   "metadata": {
    "collapsed": false
   },
   "outputs": [],
   "source": [
    "# Und jetzt fügen wir diese Information noch als zusätzliche Spalte zu unserer Tabelle hinzu\n",
    "top250.t$Dekade <- dek"
   ]
  },
  {
   "cell_type": "code",
   "execution_count": 152,
   "metadata": {
    "collapsed": false
   },
   "outputs": [
    {
     "data": {
      "text/html": [
       "<table>\n",
       "<thead><tr><th scope=col>Rang</th><th scope=col>Titel</th><th scope=col>Jahr</th><th scope=col>Bewertung</th><th scope=col>Dekade</th></tr></thead>\n",
       "<tbody>\n",
       "\t<tr><td>1                     </td><td>Die Verurteilten      </td><td>1994                  </td><td>9,2                   </td><td>1990er                </td></tr>\n",
       "\t<tr><td>2                     </td><td>Der Pate              </td><td>1972                  </td><td>9,2                   </td><td>1970er                </td></tr>\n",
       "\t<tr><td>3                     </td><td>Der Pate 2            </td><td>1974                  </td><td>9,0                   </td><td>1970er                </td></tr>\n",
       "\t<tr><td>4                     </td><td>The Dark Knight       </td><td>2008                  </td><td>9,0                   </td><td>2000er                </td></tr>\n",
       "\t<tr><td>5                     </td><td>Die zwölf Geschworenen</td><td>1957                  </td><td>8,9                   </td><td>1950er                </td></tr>\n",
       "\t<tr><td>6                     </td><td>Schindlers Liste      </td><td>1993                  </td><td>8,9                   </td><td>1990er                </td></tr>\n",
       "</tbody>\n",
       "</table>\n"
      ],
      "text/latex": [
       "\\begin{tabular}{r|lllll}\n",
       " Rang & Titel & Jahr & Bewertung & Dekade\\\\\n",
       "\\hline\n",
       "\t 1                      & Die Verurteilten       & 1994                   & 9,2                    & 1990er                \\\\\n",
       "\t 2                      & Der Pate               & 1972                   & 9,2                    & 1970er                \\\\\n",
       "\t 3                      & Der Pate 2             & 1974                   & 9,0                    & 1970er                \\\\\n",
       "\t 4                      & The Dark Knight        & 2008                   & 9,0                    & 2000er                \\\\\n",
       "\t 5                      & Die zwölf Geschworenen & 1957                   & 8,9                    & 1950er                \\\\\n",
       "\t 6                      & Schindlers Liste       & 1993                   & 8,9                    & 1990er                \\\\\n",
       "\\end{tabular}\n"
      ],
      "text/markdown": [
       "\n",
       "Rang | Titel | Jahr | Bewertung | Dekade | \n",
       "|---|---|---|---|---|---|\n",
       "| 1                      | Die Verurteilten       | 1994                   | 9,2                    | 1990er                 | \n",
       "| 2                      | Der Pate               | 1972                   | 9,2                    | 1970er                 | \n",
       "| 3                      | Der Pate 2             | 1974                   | 9,0                    | 1970er                 | \n",
       "| 4                      | The Dark Knight        | 2008                   | 9,0                    | 2000er                 | \n",
       "| 5                      | Die zwölf Geschworenen | 1957                   | 8,9                    | 1950er                 | \n",
       "| 6                      | Schindlers Liste       | 1993                   | 8,9                    | 1990er                 | \n",
       "\n",
       "\n"
      ],
      "text/plain": [
       "  Rang Titel                  Jahr Bewertung Dekade\n",
       "1 1    Die Verurteilten       1994 9,2       1990er\n",
       "2 2    Der Pate               1972 9,2       1970er\n",
       "3 3    Der Pate 2             1974 9,0       1970er\n",
       "4 4    The Dark Knight        2008 9,0       2000er\n",
       "5 5    Die zwölf Geschworenen 1957 8,9       1950er\n",
       "6 6    Schindlers Liste       1993 8,9       1990er"
      ]
     },
     "metadata": {},
     "output_type": "display_data"
    }
   ],
   "source": [
    "head(top250.t)"
   ]
  },
  {
   "cell_type": "code",
   "execution_count": 153,
   "metadata": {
    "collapsed": false
   },
   "outputs": [
    {
     "data": {
      "image/png": "[encoded data removed]",
      "text/plain": [
       "plot without title"
      ]
     },
     "metadata": {},
     "output_type": "display_data"
    }
   ],
   "source": [
    "plot(table(top250.t$Dekade))"
   ]
  },
  {
   "cell_type": "code",
   "execution_count": 154,
   "metadata": {
    "collapsed": false
   },
   "outputs": [],
   "source": [
    "#Die Hilfefunktion zum Plot finden Sie:\n",
    "?plot"
   ]
  },
  {
   "cell_type": "markdown",
   "metadata": {},
   "source": [
    ">Aufgabe: Machen Sie den Plot etwas schöner, indem Sie die Linienart und Farbe ändern, eine Überschrift hinzufügen und die Bezeichnung der y-Achse ändern"
   ]
  },
  {
   "cell_type": "code",
   "execution_count": 157,
   "metadata": {
    "collapsed": false
   },
   "outputs": [
    {
     "data": {
      "image/png": "[encoded data removed]",
      "text/plain": [
       "Plot with title “Die beliebtesten Kino-Jahrzehnte”"
      ]
     },
     "metadata": {},
     "output_type": "display_data"
    }
   ],
   "source": [
    "plot(table(top250.t$Dekade), type=\"b\", col=\"dark red\", main=\"Die beliebtesten Kino-Jahrzehnte\", ylab=\"Häufigkeit\")"
   ]
  },
  {
   "cell_type": "code",
   "execution_count": null,
   "metadata": {
    "collapsed": true
   },
   "outputs": [],
   "source": []
  }
 ],
 "metadata": {
  "kernelspec": {
   "display_name": "R",
   "language": "R",
   "name": "ir"
  },
  "language_info": {
   "codemirror_mode": "r",
   "file_extension": ".r",
   "mimetype": "text/x-r-source",
   "name": "R",
   "pygments_lexer": "r",
   "version": "3.3.3"
  }
 },
 "nbformat": 4,
 "nbformat_minor": 2
}
